{
  "nbformat": 4,
  "nbformat_minor": 0,
  "metadata": {
    "colab": {
      "name": "Fourier.ipynb",
      "provenance": [],
      "authorship_tag": "ABX9TyOgiYgoAqU7CE/H3cAxZtFD",
      "include_colab_link": true
    },
    "kernelspec": {
      "name": "python3",
      "display_name": "Python 3"
    },
    "language_info": {
      "name": "python"
    }
  },
  "cells": [
    {
      "cell_type": "markdown",
      "metadata": {
        "id": "view-in-github",
        "colab_type": "text"
      },
      "source": [
        "<a href=\"https://colab.research.google.com/github/GoicoJ/HelloWorld/blob/master/Fourier.ipynb\" target=\"_parent\"><img src=\"https://colab.research.google.com/assets/colab-badge.svg\" alt=\"Open In Colab\"/></a>"
      ]
    },
    {
      "cell_type": "code",
      "metadata": {
        "id": "KCWrlW02bhal"
      },
      "source": [
        "This notebook is about the Fourier transform and the FFT\n"
      ],
      "execution_count": null,
      "outputs": []
    },
    {
      "cell_type": "code",
      "metadata": {
        "colab": {
          "base_uri": "https://localhost:8080/"
        },
        "id": "kpMuYprxbpNE",
        "outputId": "7f36809b-27e4-4526-843b-dfe7270d4a6a"
      },
      "source": [
        "\"\"\"this is the slow FFT\"\"\"\n",
        "import numpy as np\n",
        "def DFT_slow(x):\n",
        "    \"\"\"Compute the discrete Fourier Transform of the 1D array x\"\"\"\n",
        "    x = np.asarray(x, dtype=float)\n",
        "    N = x.shape[0]\n",
        "    n = np.arange(N)\n",
        "    k = n.reshape((N, 1))\n",
        "    M = np.exp(-2j * np.pi * k * n / N)\n",
        "    return np.dot(M, x)\n",
        "\n",
        "x = np.random.random(4096)\n",
        "np.allclose(DFT_slow(x), np.fft.fft(x))\n",
        "\n",
        "%timeit DFT_slow(x)\n",
        "%timeit np.fft.fft(x)"
      ],
      "execution_count": null,
      "outputs": [
        {
          "output_type": "stream",
          "name": "stdout",
          "text": [
            "1 loop, best of 5: 1.28 s per loop\n",
            "10000 loops, best of 5: 59.9 µs per loop\n"
          ]
        }
      ]
    }
  ]
}